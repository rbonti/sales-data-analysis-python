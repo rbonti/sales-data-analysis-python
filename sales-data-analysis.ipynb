{
 "cells": [
  {
   "cell_type": "markdown",
   "id": "41154291-76ee-416d-8106-9d47c52b272f",
   "metadata": {
    "id": "41154291-76ee-416d-8106-9d47c52b272f",
    "tags": []
   },
   "source": [
    "# Análisis de ventas\n",
    "\n",
    "Se facilita una lista de `dict` con datos reales de ventas con las siguientes keys:\n",
    "\n",
    "* 'Order ID'\n",
    "* 'Product'\n",
    "* 'Quantity Ordered'\n",
    "* 'Price Each\n",
    "* 'Order Date'\n",
    "* 'Purchase Address'\n",
    "\n",
    "y values de tipo `str` en todos los casos:"
   ]
  },
  {
   "cell_type": "code",
   "execution_count": 1,
   "id": "b5d05795-bd04-427e-b8f4-004b9b52f160",
   "metadata": {
    "colab": {
     "base_uri": "https://localhost:8080/",
     "height": 217
    },
    "executionInfo": {
     "elapsed": 326,
     "status": "error",
     "timestamp": 1649220122908,
     "user": {
      "displayName": "Bibiana Rivadeneira",
      "userId": "13403832355809551391"
     },
     "user_tz": 180
    },
    "id": "b5d05795-bd04-427e-b8f4-004b9b52f160",
    "outputId": "6388b6b0-328d-4037-e9d2-1fd1c6efd9cd"
   },
   "outputs": [],
   "source": [
    "import pickle\n",
    "\n",
    "with open('sales_data.pickle', 'rb') as handle:\n",
    "    sales_data = pickle.load(handle)"
   ]
  },
  {
   "cell_type": "code",
   "execution_count": 2,
   "id": "85741068-6422-47f5-9361-f8027efe0432",
   "metadata": {},
   "outputs": [
    {
     "data": {
      "text/plain": [
       "186850"
      ]
     },
     "execution_count": 2,
     "metadata": {},
     "output_type": "execute_result"
    }
   ],
   "source": [
    "len(sales_data)"
   ]
  },
  {
   "cell_type": "code",
   "execution_count": 3,
   "id": "bd39a5b1-28eb-471e-83a9-ab5f55b784bb",
   "metadata": {
    "id": "bd39a5b1-28eb-471e-83a9-ab5f55b784bb",
    "outputId": "47bf3a43-cdd8-422a-fee6-2333d50ee821"
   },
   "outputs": [
    {
     "data": {
      "text/plain": [
       "[{'Order ID': '209921',\n",
       "  'Product': 'USB-C Charging Cable',\n",
       "  'Quantity Ordered': '1',\n",
       "  'Price Each': '11.95',\n",
       "  'Order Date': '06/23/19 19:34',\n",
       "  'Purchase Address': '950 Walnut St, Portland, ME 04101'},\n",
       " {'Order ID': '209922',\n",
       "  'Product': 'Macbook Pro Laptop',\n",
       "  'Quantity Ordered': '1',\n",
       "  'Price Each': '1700.0',\n",
       "  'Order Date': '06/30/19 10:05',\n",
       "  'Purchase Address': '80 4th St, San Francisco, CA 94016'},\n",
       " {'Order ID': '209923',\n",
       "  'Product': 'ThinkPad Laptop',\n",
       "  'Quantity Ordered': '1',\n",
       "  'Price Each': '999.99',\n",
       "  'Order Date': '06/24/19 20:18',\n",
       "  'Purchase Address': '402 Jackson St, Los Angeles, CA 90001'}]"
      ]
     },
     "execution_count": 3,
     "metadata": {},
     "output_type": "execute_result"
    }
   ],
   "source": [
    "sales_data[0:3]"
   ]
  },
  {
   "cell_type": "markdown",
   "id": "bd775d37-d9b6-457f-acf3-6cf561dbc27f",
   "metadata": {
    "id": "bd775d37-d9b6-457f-acf3-6cf561dbc27f"
   },
   "source": [
    "Responder los siguientes interrogantes de interés, para lo que se requiere:\n",
    "\n",
    "* Inspeccionar los datos\n",
    "* Formatearlos adecuadamente\n",
    "* Elegir y confeccionar nuevas estructuras de datos"
   ]
  },
  {
   "cell_type": "code",
   "execution_count": 4,
   "id": "9d7c9580-c873-4e53-aa64-5515982f9ee2",
   "metadata": {
    "id": "9d7c9580-c873-4e53-aa64-5515982f9ee2"
   },
   "outputs": [],
   "source": [
    "from collections import Counter\n",
    "import collections\n",
    "import itertools"
   ]
  },
  {
   "cell_type": "code",
   "execution_count": 5,
   "id": "3ec4c0a0-4aec-4756-bf25-0a4e79242293",
   "metadata": {
    "id": "3ec4c0a0-4aec-4756-bf25-0a4e79242293"
   },
   "outputs": [],
   "source": [
    "sales_data_list = []\n",
    "for orders in sales_data:\n",
    "    my_list = list(orders.values())\n",
    "    sales_data_list.append(my_list)"
   ]
  },
  {
   "cell_type": "code",
   "execution_count": 6,
   "id": "cd9ed0bf-a673-46ff-ad5b-e75803879ea4",
   "metadata": {},
   "outputs": [
    {
     "data": {
      "text/plain": [
       "186850"
      ]
     },
     "execution_count": 6,
     "metadata": {},
     "output_type": "execute_result"
    }
   ],
   "source": [
    "len(sales_data_list)"
   ]
  },
  {
   "cell_type": "markdown",
   "id": "65b001ce-12b7-4b6a-b5e0-f067307d5c3a",
   "metadata": {
    "id": "65b001ce-12b7-4b6a-b5e0-f067307d5c3a"
   },
   "source": [
    "**1)** ¿Cuál es el mes que reporta **la mayor cantidad de productos**? \n",
    "\n",
    "*Se espera*: `El mes de mayor venta es: {Enero/Febrero/Marzo/Abril...}` *(nótese que se debe printear el nombre del mes)*"
   ]
  },
  {
   "cell_type": "code",
   "execution_count": 7,
   "id": "87e637fa-c9fc-4178-bfcf-b28d98313bcf",
   "metadata": {},
   "outputs": [],
   "source": [
    "quantity_per_month = collections.Counter()\n",
    "for orders in sales_data:\n",
    "    try:\n",
    "        quantity_per_month[orders['Order Date'][0:2]] += int(orders['Quantity Ordered'])\n",
    "    except ValueError:\n",
    "        continue\n",
    "    except TypeError:\n",
    "        continue"
   ]
  },
  {
   "cell_type": "code",
   "execution_count": 8,
   "id": "37241910-48fe-4bf0-af7f-74908ea51d16",
   "metadata": {},
   "outputs": [],
   "source": [
    "month_dict = {'01':'January','02':'February','03':'March','04':'April','05':'May','06':'June','07':'July','08':'August','09':'September','10':'October', '11':'November', '12':'December'}"
   ]
  },
  {
   "cell_type": "code",
   "execution_count": 9,
   "id": "d7ad3887-cae7-4ce9-80e5-482061a01efe",
   "metadata": {},
   "outputs": [],
   "source": [
    "quantity_per_month = dict((month_dict[key], value) for (key, value) in quantity_per_month.items())"
   ]
  },
  {
   "cell_type": "code",
   "execution_count": 10,
   "id": "5b5e3997-b1cc-4645-81b8-2c5db6af608b",
   "metadata": {},
   "outputs": [
    {
     "data": {
      "text/plain": [
       "{'June': 15253,\n",
       " 'July': 16072,\n",
       " 'December': 28114,\n",
       " 'January': 10903,\n",
       " 'February': 13449,\n",
       " 'March': 17005,\n",
       " 'September': 13109,\n",
       " 'October': 22703,\n",
       " 'April': 20558,\n",
       " 'May': 18667,\n",
       " 'August': 13448,\n",
       " 'November': 19798}"
      ]
     },
     "execution_count": 10,
     "metadata": {},
     "output_type": "execute_result"
    }
   ],
   "source": [
    "quantity_per_month"
   ]
  },
  {
   "cell_type": "code",
   "execution_count": 11,
   "id": "2406742b-97fb-448d-9b19-196f41613146",
   "metadata": {},
   "outputs": [
    {
     "name": "stdout",
     "output_type": "stream",
     "text": [
      "December\n"
     ]
    }
   ],
   "source": [
    "for key,value in quantity_per_month.items():\n",
    "    if value == 28114:\n",
    "        best_month = key\n",
    "        print(key)"
   ]
  },
  {
   "cell_type": "code",
   "execution_count": 12,
   "id": "6d3eb0c2-46ce-48db-b9fe-6eea2b1a88bb",
   "metadata": {},
   "outputs": [
    {
     "name": "stdout",
     "output_type": "stream",
     "text": [
      "El mes de mayor venta es December\n"
     ]
    }
   ],
   "source": [
    "print(f'El mes de mayor venta es {best_month}')"
   ]
  },
  {
   "cell_type": "markdown",
   "id": "111cd58e-7c14-437c-9a58-d269504d3dc6",
   "metadata": {
    "id": "111cd58e-7c14-437c-9a58-d269504d3dc6"
   },
   "source": [
    "**2)** ¿Qué ganancia reporta dicho mes?  \n",
    "*Se espera*: `En el mes de {Enero/Febrero/Marzo/Abril...} se reporta una ganancia total de USD{xxxx.xx}` *(nótese que el monto debe incluir DOS decimales)*"
   ]
  },
  {
   "cell_type": "code",
   "execution_count": 13,
   "id": "2f53650d-dcdf-40e0-b102-0091b7e153ee",
   "metadata": {
    "id": "2f53650d-dcdf-40e0-b102-0091b7e153ee"
   },
   "outputs": [],
   "source": [
    "income_per_month = collections.Counter()\n",
    "for orders in sales_data:\n",
    "    try:\n",
    "        income_per_month[orders['Order Date'][0:2]] += float(orders['Price Each'])\n",
    "    except ValueError:\n",
    "        continue\n",
    "    except TypeError:\n",
    "        continue"
   ]
  },
  {
   "cell_type": "code",
   "execution_count": 14,
   "id": "aaeab945-40bb-4b44-9d54-65f62022f28e",
   "metadata": {},
   "outputs": [
    {
     "data": {
      "text/plain": [
       "Counter({'06': 2562025.610000205,\n",
       "         '07': 2632539.560000265,\n",
       "         '12': 4588415.410001607,\n",
       "         '01': 1811768.3799999245,\n",
       "         '02': 2188884.719999974,\n",
       "         '03': 2791207.8300004015,\n",
       "         '09': 2084992.089999913,\n",
       "         '10': 3715554.8300010404,\n",
       "         '04': 3367671.0200007493,\n",
       "         '05': 3135125.130000607,\n",
       "         '08': 2230345.420000008,\n",
       "         '11': 3180600.6800006493})"
      ]
     },
     "execution_count": 14,
     "metadata": {},
     "output_type": "execute_result"
    }
   ],
   "source": [
    "income_per_month"
   ]
  },
  {
   "cell_type": "code",
   "execution_count": 15,
   "id": "aba3b3f2-b76d-4ccb-97f6-8fb7c6cf44f8",
   "metadata": {},
   "outputs": [
    {
     "name": "stdout",
     "output_type": "stream",
     "text": [
      "28114\n"
     ]
    }
   ],
   "source": [
    "for key,value in quantity_per_month.items():\n",
    "    if key == 'December':\n",
    "        sales_quantity_december = value\n",
    "        print(value)"
   ]
  },
  {
   "cell_type": "code",
   "execution_count": 16,
   "id": "30086871-abf8-40c7-bd9a-590b63e5af69",
   "metadata": {},
   "outputs": [
    {
     "name": "stdout",
     "output_type": "stream",
     "text": [
      "4588415.41\n"
     ]
    }
   ],
   "source": [
    "for key,value1 in income_per_month.items():\n",
    "    if key == '12':\n",
    "        sales_income_december = round(value1,2)\n",
    "        print(sales_income_december)"
   ]
  },
  {
   "cell_type": "code",
   "execution_count": 17,
   "id": "da6852f1-9775-48b7-afa7-40973ebdf06b",
   "metadata": {},
   "outputs": [],
   "source": [
    "def profit(income, quantity):\n",
    "    result = income * quantity\n",
    "    return \"USD{:,.2f}\".format(result)"
   ]
  },
  {
   "cell_type": "code",
   "execution_count": 18,
   "id": "d162a4f4-0db9-4c06-a5cb-90192829a87b",
   "metadata": {},
   "outputs": [
    {
     "name": "stdout",
     "output_type": "stream",
     "text": [
      "En el mes de December se reporta una ganancia total de USD128,998,710,836.74\n"
     ]
    }
   ],
   "source": [
    "profit_december = profit(sales_income_december,sales_quantity_december)\n",
    "\n",
    "print(f'En el mes de {best_month} se reporta una ganancia total de {profit_december}')"
   ]
  },
  {
   "cell_type": "markdown",
   "id": "f3eaeae9-19b6-4512-ba98-94f79613d3a5",
   "metadata": {
    "id": "f3eaeae9-19b6-4512-ba98-94f79613d3a5"
   },
   "source": [
    "**3)** ¿Qué porcentaje del total de las ventas representa?  \n",
    "*Se espera*: `Las ventas en el mes de {Enero/Febrero/Marzo/Abril...} representan un xx.xx% del total de las ventas` *(nótese que el monto debe incluir DOS decimales)*"
   ]
  },
  {
   "cell_type": "code",
   "execution_count": 19,
   "id": "f45b76f2-7dc0-44cb-bc19-e0ce1778c667",
   "metadata": {},
   "outputs": [],
   "source": [
    "def percentage(part, whole):\n",
    "    result = 100 * float(part)/float(whole)\n",
    "    return (f'{round(result,2)}%')"
   ]
  },
  {
   "cell_type": "code",
   "execution_count": 20,
   "id": "f433b8f3-7e2d-42c6-afa6-ca148e9550c2",
   "metadata": {},
   "outputs": [],
   "source": [
    "december_over_sales = percentage(sales_quantity_december,len(sales_data))"
   ]
  },
  {
   "cell_type": "code",
   "execution_count": 21,
   "id": "6294a3f2-e381-479a-94a3-703282d429eb",
   "metadata": {
    "id": "6294a3f2-e381-479a-94a3-703282d429eb"
   },
   "outputs": [
    {
     "name": "stdout",
     "output_type": "stream",
     "text": [
      "Las ventas en el mes de December representan un 15.05% del total de las ventas\n"
     ]
    }
   ],
   "source": [
    "print(f'Las ventas en el mes de {best_month} representan un {december_over_sales} del total de las ventas')"
   ]
  },
  {
   "cell_type": "markdown",
   "id": "a123911e-0328-4600-9a7f-0753e79bbd6d",
   "metadata": {
    "id": "a123911e-0328-4600-9a7f-0753e79bbd6d"
   },
   "source": [
    "**4)** ¿Qué ciudad reportó la mayor cantidad de ventas?  \n",
    "*Se espera*: `La ciudad con mayor cantidad de ventas es {Dallas/Los Angeles/Boston...} reporta la mayor cantidad de ventas` *(nótese que se debe especificar la ciudad y no la dirección completa)*"
   ]
  },
  {
   "cell_type": "code",
   "execution_count": 22,
   "id": "8e73c326-7960-4b14-b784-aa4cae2615f3",
   "metadata": {},
   "outputs": [],
   "source": [
    "city_list = [item[5] for item in sales_data_list]"
   ]
  },
  {
   "cell_type": "code",
   "execution_count": 23,
   "id": "bef35c63-34ac-4113-b85b-98f218116560",
   "metadata": {
    "id": "bef35c63-34ac-4113-b85b-98f218116560"
   },
   "outputs": [],
   "source": [
    "for i in range(len(city_list)):\n",
    "    try:\n",
    "        city_list[i] = city_list[i].split(', ')[1]\n",
    "    except IndexError:\n",
    "        continue\n",
    "    except AttributeError:\n",
    "        continue"
   ]
  },
  {
   "cell_type": "code",
   "execution_count": 24,
   "id": "679923a1-5d6f-4e03-a5ed-be4ae64fa878",
   "metadata": {},
   "outputs": [
    {
     "name": "stdout",
     "output_type": "stream",
     "text": [
      "[('San Francisco', 44732)]\n"
     ]
    }
   ],
   "source": [
    "sell_per_city = Counter(city_list)\n",
    "most_sells = sell_per_city.most_common(1)\n",
    "print(most_sells)"
   ]
  },
  {
   "cell_type": "code",
   "execution_count": 25,
   "id": "6175b9ba-c6de-4c7f-b61a-bc0b6df70621",
   "metadata": {},
   "outputs": [
    {
     "name": "stdout",
     "output_type": "stream",
     "text": [
      "La ciudad con mayor cantidad de ventas es [('San Francisco', 44732)] reporta la mayor cantidad de ventas\n"
     ]
    }
   ],
   "source": [
    "print(f'La ciudad con mayor cantidad de ventas es {most_sells} reporta la mayor cantidad de ventas')\n",
    "\n",
    "#en caso de querer ver solo el lugar aplicar slicing\n",
    "#print(f'La ciudad con mayor cantidad de ventas es {most_sells[0][0]} reporta la mayor cantidad de ventas')"
   ]
  },
  {
   "cell_type": "markdown",
   "id": "7ff085be-3d8e-455b-a66b-c7e905f4c584",
   "metadata": {
    "id": "7ff085be-3d8e-455b-a66b-c7e905f4c584"
   },
   "source": [
    "**5)** ¿Qué porcentaje del total de las ventas representa?  \n",
    "*Se espera*: `Las ventas en {Dallas/Los Angeles/Boston...} representan un xx.xx% del total` *(nótese que se debe especificar la ciudad y no la dirección completa)*"
   ]
  },
  {
   "cell_type": "code",
   "execution_count": 26,
   "id": "18ed8be8-2588-46b7-aaab-e78ca03c549e",
   "metadata": {
    "id": "18ed8be8-2588-46b7-aaab-e78ca03c549e"
   },
   "outputs": [],
   "source": [
    "most_sells_list = [list(x) for x in most_sells]\n",
    "most_sells_list = most_sells_list[0][1]"
   ]
  },
  {
   "cell_type": "code",
   "execution_count": 27,
   "id": "cc24dfbb-0f30-466b-9fa0-473c8f2bbbbd",
   "metadata": {},
   "outputs": [
    {
     "name": "stdout",
     "output_type": "stream",
     "text": [
      "23.94%\n"
     ]
    }
   ],
   "source": [
    "percentage_over_sales = percentage(most_sells_list, len(sales_data))\n",
    "print(percentage_over_sales)"
   ]
  },
  {
   "cell_type": "code",
   "execution_count": 28,
   "id": "92b2a6e4-6190-46a6-970f-5f0eb8d7cab3",
   "metadata": {},
   "outputs": [
    {
     "name": "stdout",
     "output_type": "stream",
     "text": [
      "Las ventas en San Francisco representan un 23.94% del total\n"
     ]
    }
   ],
   "source": [
    "print(f'Las ventas en {most_sells[0][0]} representan un {percentage_over_sales} del total')"
   ]
  },
  {
   "cell_type": "markdown",
   "id": "a050f86b-2f8d-4473-94a2-29c52ff47a5f",
   "metadata": {
    "id": "a050f86b-2f8d-4473-94a2-29c52ff47a5f"
   },
   "source": [
    "**6)** ¿En qué horas del día se deberían publicar anuncios promocionales para maximizar las ventas?  \n",
    "*Se espera*: `Las horas del día en las que más ventas se registran son: {xx}hs y {yy}hs` *(nótese que se requieren horas del día, como \"10hs\" o \"20hs\")*"
   ]
  },
  {
   "cell_type": "code",
   "execution_count": 29,
   "id": "d917acad-8db7-4725-ba74-a5ebd4af62fb",
   "metadata": {
    "id": "d917acad-8db7-4725-ba74-a5ebd4af62fb"
   },
   "outputs": [],
   "source": [
    "hours_per_orders = collections.Counter()\n",
    "for orders in sales_data:\n",
    "    try:\n",
    "        hours_per_orders[orders['Order Date'][9:]] += int(orders['Quantity Ordered'])\n",
    "    except ValueError:\n",
    "        continue\n",
    "    except TypeError:\n",
    "        continue"
   ]
  },
  {
   "cell_type": "code",
   "execution_count": 30,
   "id": "f064e584-5944-4d42-bf48-d58de8737f63",
   "metadata": {},
   "outputs": [
    {
     "data": {
      "text/plain": [
       "[('11:58', 282), ('19:20', 281)]"
      ]
     },
     "execution_count": 30,
     "metadata": {},
     "output_type": "execute_result"
    }
   ],
   "source": [
    "best_hours = hours_per_orders.most_common(2)\n",
    "best_hours"
   ]
  },
  {
   "cell_type": "code",
   "execution_count": 31,
   "id": "cc138db9-240a-4268-9a7f-679bea863fcb",
   "metadata": {},
   "outputs": [
    {
     "name": "stdout",
     "output_type": "stream",
     "text": [
      "Las horas del día en las que más ventas se registran son: 11hs y 19hs\n"
     ]
    }
   ],
   "source": [
    "print(f'Las horas del día en las que más ventas se registran son: {best_hours[0][0][0:2]}hs y {best_hours[1][0][0:2]}hs')"
   ]
  },
  {
   "cell_type": "markdown",
   "id": "80af09de-5127-4d05-af12-717b72da09ab",
   "metadata": {
    "id": "80af09de-5127-4d05-af12-717b72da09ab"
   },
   "source": [
    "**7)** Determinar productos que se venden juntos y DE A DOS.  \n",
    "*Se espera*: `Los siguientes productos se venden juntos y de a dos: {x}-{y}, {yy}-{zz} ...`  \n",
    "**OBS**: Para una misma *orden* se pueden regitrar varios productos."
   ]
  },
  {
   "cell_type": "code",
   "execution_count": 32,
   "id": "b2b1c6c9-5ce4-4285-bd55-675f47f930f9",
   "metadata": {
    "id": "b2b1c6c9-5ce4-4285-bd55-675f47f930f9"
   },
   "outputs": [],
   "source": [
    "orders_id = [item[0] for item in sales_data_list]\n",
    "count_of_orders = Counter(orders_id)"
   ]
  },
  {
   "cell_type": "code",
   "execution_count": 33,
   "id": "1282a4e8-0c06-4eb8-bdf4-01513569e6ef",
   "metadata": {},
   "outputs": [],
   "source": [
    "two_orders = [orders for orders in orders_id if count_of_orders[orders] == 2]\n",
    "#ordenes que tienen dos items"
   ]
  },
  {
   "cell_type": "code",
   "execution_count": 34,
   "id": "948ea9cb-9ed1-46f6-a59b-c48c444271dc",
   "metadata": {},
   "outputs": [],
   "source": [
    "pair_products = []\n",
    "for orders in sales_data_list:\n",
    "    if orders[0] in two_orders:\n",
    "        pair_products.append(orders[0] + orders[1])  "
   ]
  },
  {
   "cell_type": "code",
   "execution_count": 35,
   "id": "f6ddf415-54d6-4853-8845-b98169b0ea6f",
   "metadata": {},
   "outputs": [],
   "source": [
    "pair_products_list = []\n",
    "for j in range(0,len(pair_products), 2):\n",
    "    pair_products_list.append([pair_products[j][6:], pair_products[j + 1][6:]])"
   ]
  },
  {
   "cell_type": "code",
   "execution_count": 36,
   "id": "72d443b8-df18-4f79-b434-c8245948a5ce",
   "metadata": {},
   "outputs": [
    {
     "data": {
      "text/plain": [
       "[['20in Monitor', '20in Monitor'],\n",
       " ['20in Monitor', '27in FHD Monitor'],\n",
       " ['20in Monitor', '34in Ultrawide Monitor'],\n",
       " ['20in Monitor', 'AA Batteries (4-pack)'],\n",
       " ['20in Monitor', 'AAA Batteries (4-pack)'],\n",
       " ['20in Monitor', 'Apple Airpods Headphones'],\n",
       " ['20in Monitor', 'Bose SoundSport Headphones'],\n",
       " ['20in Monitor', 'Flatscreen TV'],\n",
       " ['20in Monitor', 'Google Phone'],\n",
       " ['20in Monitor', 'LG Washing Machine'],\n",
       " ['20in Monitor', 'Lightning Charging Cable'],\n",
       " ['20in Monitor', 'Macbook Pro Laptop'],\n",
       " ['20in Monitor', 'ThinkPad Laptop'],\n",
       " ['20in Monitor', 'USB-C Charging Cable'],\n",
       " ['20in Monitor', 'Wired Headphones'],\n",
       " ['20in Monitor', 'iPhone'],\n",
       " ['27in 4K Gaming Monitor', '20in Monitor'],\n",
       " ['27in 4K Gaming Monitor', '27in 4K Gaming Monitor'],\n",
       " ['27in 4K Gaming Monitor', '27in FHD Monitor'],\n",
       " ['27in 4K Gaming Monitor', '34in Ultrawide Monitor'],\n",
       " ['27in 4K Gaming Monitor', 'AA Batteries (4-pack)'],\n",
       " ['27in 4K Gaming Monitor', 'AAA Batteries (4-pack)'],\n",
       " ['27in 4K Gaming Monitor', 'Apple Airpods Headphones'],\n",
       " ['27in 4K Gaming Monitor', 'Bose SoundSport Headphones'],\n",
       " ['27in 4K Gaming Monitor', 'Flatscreen TV'],\n",
       " ['27in 4K Gaming Monitor', 'Google Phone'],\n",
       " ['27in 4K Gaming Monitor', 'LG Dryer'],\n",
       " ['27in 4K Gaming Monitor', 'Lightning Charging Cable'],\n",
       " ['27in 4K Gaming Monitor', 'Macbook Pro Laptop'],\n",
       " ['27in 4K Gaming Monitor', 'ThinkPad Laptop'],\n",
       " ['27in 4K Gaming Monitor', 'USB-C Charging Cable'],\n",
       " ['27in 4K Gaming Monitor', 'Vareebadd Phone'],\n",
       " ['27in 4K Gaming Monitor', 'Wired Headphones'],\n",
       " ['27in 4K Gaming Monitor', 'iPhone'],\n",
       " ['27in FHD Monitor', '20in Monitor'],\n",
       " ['27in FHD Monitor', '27in 4K Gaming Monitor'],\n",
       " ['27in FHD Monitor', '27in FHD Monitor'],\n",
       " ['27in FHD Monitor', '34in Ultrawide Monitor'],\n",
       " ['27in FHD Monitor', 'AA Batteries (4-pack)'],\n",
       " ['27in FHD Monitor', 'AAA Batteries (4-pack)'],\n",
       " ['27in FHD Monitor', 'Apple Airpods Headphones'],\n",
       " ['27in FHD Monitor', 'Bose SoundSport Headphones'],\n",
       " ['27in FHD Monitor', 'Flatscreen TV'],\n",
       " ['27in FHD Monitor', 'Google Phone'],\n",
       " ['27in FHD Monitor', 'LG Dryer'],\n",
       " ['27in FHD Monitor', 'LG Washing Machine'],\n",
       " ['27in FHD Monitor', 'Lightning Charging Cable'],\n",
       " ['27in FHD Monitor', 'Macbook Pro Laptop'],\n",
       " ['27in FHD Monitor', 'ThinkPad Laptop'],\n",
       " ['27in FHD Monitor', 'USB-C Charging Cable'],\n",
       " ['27in FHD Monitor', 'Vareebadd Phone'],\n",
       " ['27in FHD Monitor', 'Wired Headphones'],\n",
       " ['27in FHD Monitor', 'iPhone'],\n",
       " ['34in Ultrawide Monitor', '20in Monitor'],\n",
       " ['34in Ultrawide Monitor', '27in FHD Monitor'],\n",
       " ['34in Ultrawide Monitor', '34in Ultrawide Monitor'],\n",
       " ['34in Ultrawide Monitor', 'AA Batteries (4-pack)'],\n",
       " ['34in Ultrawide Monitor', 'AAA Batteries (4-pack)'],\n",
       " ['34in Ultrawide Monitor', 'Apple Airpods Headphones'],\n",
       " ['34in Ultrawide Monitor', 'Bose SoundSport Headphones'],\n",
       " ['34in Ultrawide Monitor', 'Flatscreen TV'],\n",
       " ['34in Ultrawide Monitor', 'Google Phone'],\n",
       " ['34in Ultrawide Monitor', 'LG Washing Machine'],\n",
       " ['34in Ultrawide Monitor', 'Lightning Charging Cable'],\n",
       " ['34in Ultrawide Monitor', 'Macbook Pro Laptop'],\n",
       " ['34in Ultrawide Monitor', 'ThinkPad Laptop'],\n",
       " ['34in Ultrawide Monitor', 'USB-C Charging Cable'],\n",
       " ['34in Ultrawide Monitor', 'Wired Headphones'],\n",
       " ['34in Ultrawide Monitor', 'iPhone'],\n",
       " ['AA Batteries (4-pack)', '20in Monitor'],\n",
       " ['AA Batteries (4-pack)', '27in 4K Gaming Monitor'],\n",
       " ['AA Batteries (4-pack)', '27in FHD Monitor'],\n",
       " ['AA Batteries (4-pack)', '34in Ultrawide Monitor'],\n",
       " ['AA Batteries (4-pack)', 'AA Batteries (4-pack)'],\n",
       " ['AA Batteries (4-pack)', 'AAA Batteries (4-pack)'],\n",
       " ['AA Batteries (4-pack)', 'Apple Airpods Headphones'],\n",
       " ['AA Batteries (4-pack)', 'Bose SoundSport Headphones'],\n",
       " ['AA Batteries (4-pack)', 'Flatscreen TV'],\n",
       " ['AA Batteries (4-pack)', 'Google Phone'],\n",
       " ['AA Batteries (4-pack)', 'LG Dryer'],\n",
       " ['AA Batteries (4-pack)', 'Lightning Charging Cable'],\n",
       " ['AA Batteries (4-pack)', 'Macbook Pro Laptop'],\n",
       " ['AA Batteries (4-pack)', 'ThinkPad Laptop'],\n",
       " ['AA Batteries (4-pack)', 'USB-C Charging Cable'],\n",
       " ['AA Batteries (4-pack)', 'Vareebadd Phone'],\n",
       " ['AA Batteries (4-pack)', 'Wired Headphones'],\n",
       " ['AA Batteries (4-pack)', 'iPhone'],\n",
       " ['AAA Batteries (4-pack)', '20in Monitor'],\n",
       " ['AAA Batteries (4-pack)', '27in 4K Gaming Monitor'],\n",
       " ['AAA Batteries (4-pack)', '27in FHD Monitor'],\n",
       " ['AAA Batteries (4-pack)', '34in Ultrawide Monitor'],\n",
       " ['AAA Batteries (4-pack)', 'AA Batteries (4-pack)'],\n",
       " ['AAA Batteries (4-pack)', 'AAA Batteries (4-pack)'],\n",
       " ['AAA Batteries (4-pack)', 'Apple Airpods Headphones'],\n",
       " ['AAA Batteries (4-pack)', 'Bose SoundSport Headphones'],\n",
       " ['AAA Batteries (4-pack)', 'Flatscreen TV'],\n",
       " ['AAA Batteries (4-pack)', 'Google Phone'],\n",
       " ['AAA Batteries (4-pack)', 'LG Dryer'],\n",
       " ['AAA Batteries (4-pack)', 'Lightning Charging Cable'],\n",
       " ['AAA Batteries (4-pack)', 'Macbook Pro Laptop'],\n",
       " ['AAA Batteries (4-pack)', 'ThinkPad Laptop'],\n",
       " ['AAA Batteries (4-pack)', 'USB-C Charging Cable'],\n",
       " ['AAA Batteries (4-pack)', 'Vareebadd Phone'],\n",
       " ['AAA Batteries (4-pack)', 'Wired Headphones'],\n",
       " ['AAA Batteries (4-pack)', 'iPhone'],\n",
       " ['Apple Airpods Headphones', '20in Monitor'],\n",
       " ['Apple Airpods Headphones', '27in 4K Gaming Monitor'],\n",
       " ['Apple Airpods Headphones', '27in FHD Monitor'],\n",
       " ['Apple Airpods Headphones', '34in Ultrawide Monitor'],\n",
       " ['Apple Airpods Headphones', 'AA Batteries (4-pack)'],\n",
       " ['Apple Airpods Headphones', 'AAA Batteries (4-pack)'],\n",
       " ['Apple Airpods Headphones', 'Apple Airpods Headphones'],\n",
       " ['Apple Airpods Headphones', 'Bose SoundSport Headphones'],\n",
       " ['Apple Airpods Headphones', 'Flatscreen TV'],\n",
       " ['Apple Airpods Headphones', 'Google Phone'],\n",
       " ['Apple Airpods Headphones', 'LG Dryer'],\n",
       " ['Apple Airpods Headphones', 'Lightning Charging Cable'],\n",
       " ['Apple Airpods Headphones', 'Macbook Pro Laptop'],\n",
       " ['Apple Airpods Headphones', 'ThinkPad Laptop'],\n",
       " ['Apple Airpods Headphones', 'USB-C Charging Cable'],\n",
       " ['Apple Airpods Headphones', 'Vareebadd Phone'],\n",
       " ['Apple Airpods Headphones', 'Wired Headphones'],\n",
       " ['Apple Airpods Headphones', 'iPhone'],\n",
       " ['Bose SoundSport Headphones', '20in Monitor'],\n",
       " ['Bose SoundSport Headphones', '27in 4K Gaming Monitor'],\n",
       " ['Bose SoundSport Headphones', '27in FHD Monitor'],\n",
       " ['Bose SoundSport Headphones', '34in Ultrawide Monitor'],\n",
       " ['Bose SoundSport Headphones', 'AA Batteries (4-pack)'],\n",
       " ['Bose SoundSport Headphones', 'AAA Batteries (4-pack)'],\n",
       " ['Bose SoundSport Headphones', 'Apple Airpods Headphones'],\n",
       " ['Bose SoundSport Headphones', 'Bose SoundSport Headphones'],\n",
       " ['Bose SoundSport Headphones', 'Flatscreen TV'],\n",
       " ['Bose SoundSport Headphones', 'Google Phone'],\n",
       " ['Bose SoundSport Headphones', 'Lightning Charging Cable'],\n",
       " ['Bose SoundSport Headphones', 'Macbook Pro Laptop'],\n",
       " ['Bose SoundSport Headphones', 'ThinkPad Laptop'],\n",
       " ['Bose SoundSport Headphones', 'USB-C Charging Cable'],\n",
       " ['Bose SoundSport Headphones', 'Vareebadd Phone'],\n",
       " ['Bose SoundSport Headphones', 'Wired Headphones'],\n",
       " ['Bose SoundSport Headphones', 'iPhone'],\n",
       " ['Flatscreen TV', '20in Monitor'],\n",
       " ['Flatscreen TV', '27in 4K Gaming Monitor'],\n",
       " ['Flatscreen TV', '27in FHD Monitor'],\n",
       " ['Flatscreen TV', '34in Ultrawide Monitor'],\n",
       " ['Flatscreen TV', 'AA Batteries (4-pack)'],\n",
       " ['Flatscreen TV', 'AAA Batteries (4-pack)'],\n",
       " ['Flatscreen TV', 'Apple Airpods Headphones'],\n",
       " ['Flatscreen TV', 'Bose SoundSport Headphones'],\n",
       " ['Flatscreen TV', 'Flatscreen TV'],\n",
       " ['Flatscreen TV', 'Google Phone'],\n",
       " ['Flatscreen TV', 'Lightning Charging Cable'],\n",
       " ['Flatscreen TV', 'Macbook Pro Laptop'],\n",
       " ['Flatscreen TV', 'ThinkPad Laptop'],\n",
       " ['Flatscreen TV', 'USB-C Charging Cable'],\n",
       " ['Flatscreen TV', 'Wired Headphones'],\n",
       " ['Flatscreen TV', 'iPhone'],\n",
       " ['Google Phone', '20in Monitor'],\n",
       " ['Google Phone', '27in 4K Gaming Monitor'],\n",
       " ['Google Phone', '27in FHD Monitor'],\n",
       " ['Google Phone', '34in Ultrawide Monitor'],\n",
       " ['Google Phone', 'AA Batteries (4-pack)'],\n",
       " ['Google Phone', 'AAA Batteries (4-pack)'],\n",
       " ['Google Phone', 'Apple Airpods Headphones'],\n",
       " ['Google Phone', 'Bose SoundSport Headphones'],\n",
       " ['Google Phone', 'Flatscreen TV'],\n",
       " ['Google Phone', 'Google Phone'],\n",
       " ['Google Phone', 'Lightning Charging Cable'],\n",
       " ['Google Phone', 'Macbook Pro Laptop'],\n",
       " ['Google Phone', 'ThinkPad Laptop'],\n",
       " ['Google Phone', 'USB-C Charging Cable'],\n",
       " ['Google Phone', 'Wired Headphones'],\n",
       " ['Google Phone', 'iPhone'],\n",
       " ['LG Dryer', '27in 4K Gaming Monitor'],\n",
       " ['LG Dryer', '27in FHD Monitor'],\n",
       " ['LG Dryer', 'AA Batteries (4-pack)'],\n",
       " ['LG Dryer', 'AAA Batteries (4-pack)'],\n",
       " ['LG Dryer', 'Flatscreen TV'],\n",
       " ['LG Dryer', 'Google Phone'],\n",
       " ['LG Dryer', 'Lightning Charging Cable'],\n",
       " ['LG Dryer', 'Vareebadd Phone'],\n",
       " ['LG Dryer', 'Wired Headphones'],\n",
       " ['LG Washing Machine', '20in Monitor'],\n",
       " ['LG Washing Machine', '27in 4K Gaming Monitor'],\n",
       " ['LG Washing Machine', 'AA Batteries (4-pack)'],\n",
       " ['LG Washing Machine', 'AAA Batteries (4-pack)'],\n",
       " ['LG Washing Machine', 'Apple Airpods Headphones'],\n",
       " ['LG Washing Machine', 'Bose SoundSport Headphones'],\n",
       " ['LG Washing Machine', 'Google Phone'],\n",
       " ['LG Washing Machine', 'Lightning Charging Cable'],\n",
       " ['LG Washing Machine', 'Wired Headphones'],\n",
       " ['LG Washing Machine', 'iPhone'],\n",
       " ['Lightning Charging Cable', '20in Monitor'],\n",
       " ['Lightning Charging Cable', '27in 4K Gaming Monitor'],\n",
       " ['Lightning Charging Cable', '27in FHD Monitor'],\n",
       " ['Lightning Charging Cable', '34in Ultrawide Monitor'],\n",
       " ['Lightning Charging Cable', 'AA Batteries (4-pack)'],\n",
       " ['Lightning Charging Cable', 'AAA Batteries (4-pack)'],\n",
       " ['Lightning Charging Cable', 'Apple Airpods Headphones'],\n",
       " ['Lightning Charging Cable', 'Bose SoundSport Headphones'],\n",
       " ['Lightning Charging Cable', 'Flatscreen TV'],\n",
       " ['Lightning Charging Cable', 'Google Phone'],\n",
       " ['Lightning Charging Cable', 'LG Dryer'],\n",
       " ['Lightning Charging Cable', 'LG Washing Machine'],\n",
       " ['Lightning Charging Cable', 'Lightning Charging Cable'],\n",
       " ['Lightning Charging Cable', 'Macbook Pro Laptop'],\n",
       " ['Lightning Charging Cable', 'ThinkPad Laptop'],\n",
       " ['Lightning Charging Cable', 'USB-C Charging Cable'],\n",
       " ['Lightning Charging Cable', 'Vareebadd Phone'],\n",
       " ['Lightning Charging Cable', 'Wired Headphones'],\n",
       " ['Lightning Charging Cable', 'iPhone'],\n",
       " ['Macbook Pro Laptop', '20in Monitor'],\n",
       " ['Macbook Pro Laptop', '27in 4K Gaming Monitor'],\n",
       " ['Macbook Pro Laptop', '27in FHD Monitor'],\n",
       " ['Macbook Pro Laptop', '34in Ultrawide Monitor'],\n",
       " ['Macbook Pro Laptop', 'AA Batteries (4-pack)'],\n",
       " ['Macbook Pro Laptop', 'AAA Batteries (4-pack)'],\n",
       " ['Macbook Pro Laptop', 'Apple Airpods Headphones'],\n",
       " ['Macbook Pro Laptop', 'Bose SoundSport Headphones'],\n",
       " ['Macbook Pro Laptop', 'Flatscreen TV'],\n",
       " ['Macbook Pro Laptop', 'Google Phone'],\n",
       " ['Macbook Pro Laptop', 'LG Washing Machine'],\n",
       " ['Macbook Pro Laptop', 'Lightning Charging Cable'],\n",
       " ['Macbook Pro Laptop', 'Macbook Pro Laptop'],\n",
       " ['Macbook Pro Laptop', 'ThinkPad Laptop'],\n",
       " ['Macbook Pro Laptop', 'USB-C Charging Cable'],\n",
       " ['Macbook Pro Laptop', 'Wired Headphones'],\n",
       " ['Macbook Pro Laptop', 'iPhone'],\n",
       " ['ThinkPad Laptop', '27in 4K Gaming Monitor'],\n",
       " ['ThinkPad Laptop', '27in FHD Monitor'],\n",
       " ['ThinkPad Laptop', '34in Ultrawide Monitor'],\n",
       " ['ThinkPad Laptop', 'AA Batteries (4-pack)'],\n",
       " ['ThinkPad Laptop', 'AAA Batteries (4-pack)'],\n",
       " ['ThinkPad Laptop', 'Apple Airpods Headphones'],\n",
       " ['ThinkPad Laptop', 'Bose SoundSport Headphones'],\n",
       " ['ThinkPad Laptop', 'Flatscreen TV'],\n",
       " ['ThinkPad Laptop', 'Google Phone'],\n",
       " ['ThinkPad Laptop', 'LG Dryer'],\n",
       " ['ThinkPad Laptop', 'Lightning Charging Cable'],\n",
       " ['ThinkPad Laptop', 'Macbook Pro Laptop'],\n",
       " ['ThinkPad Laptop', 'ThinkPad Laptop'],\n",
       " ['ThinkPad Laptop', 'USB-C Charging Cable'],\n",
       " ['ThinkPad Laptop', 'Vareebadd Phone'],\n",
       " ['ThinkPad Laptop', 'Wired Headphones'],\n",
       " ['ThinkPad Laptop', 'iPhone'],\n",
       " ['USB-C Charging Cable', '20in Monitor'],\n",
       " ['USB-C Charging Cable', '27in 4K Gaming Monitor'],\n",
       " ['USB-C Charging Cable', '27in FHD Monitor'],\n",
       " ['USB-C Charging Cable', '34in Ultrawide Monitor'],\n",
       " ['USB-C Charging Cable', 'AA Batteries (4-pack)'],\n",
       " ['USB-C Charging Cable', 'AAA Batteries (4-pack)'],\n",
       " ['USB-C Charging Cable', 'Apple Airpods Headphones'],\n",
       " ['USB-C Charging Cable', 'Bose SoundSport Headphones'],\n",
       " ['USB-C Charging Cable', 'Flatscreen TV'],\n",
       " ['USB-C Charging Cable', 'Google Phone'],\n",
       " ['USB-C Charging Cable', 'LG Dryer'],\n",
       " ['USB-C Charging Cable', 'Lightning Charging Cable'],\n",
       " ['USB-C Charging Cable', 'Macbook Pro Laptop'],\n",
       " ['USB-C Charging Cable', 'ThinkPad Laptop'],\n",
       " ['USB-C Charging Cable', 'USB-C Charging Cable'],\n",
       " ['USB-C Charging Cable', 'Vareebadd Phone'],\n",
       " ['USB-C Charging Cable', 'Wired Headphones'],\n",
       " ['USB-C Charging Cable', 'iPhone'],\n",
       " ['Vareebadd Phone', '27in 4K Gaming Monitor'],\n",
       " ['Vareebadd Phone', '27in FHD Monitor'],\n",
       " ['Vareebadd Phone', '34in Ultrawide Monitor'],\n",
       " ['Vareebadd Phone', 'AA Batteries (4-pack)'],\n",
       " ['Vareebadd Phone', 'AAA Batteries (4-pack)'],\n",
       " ['Vareebadd Phone', 'Apple Airpods Headphones'],\n",
       " ['Vareebadd Phone', 'Bose SoundSport Headphones'],\n",
       " ['Vareebadd Phone', 'Flatscreen TV'],\n",
       " ['Vareebadd Phone', 'Google Phone'],\n",
       " ['Vareebadd Phone', 'Lightning Charging Cable'],\n",
       " ['Vareebadd Phone', 'ThinkPad Laptop'],\n",
       " ['Vareebadd Phone', 'USB-C Charging Cable'],\n",
       " ['Vareebadd Phone', 'Wired Headphones'],\n",
       " ['Vareebadd Phone', 'iPhone'],\n",
       " ['Wired Headphones', '20in Monitor'],\n",
       " ['Wired Headphones', '27in 4K Gaming Monitor'],\n",
       " ['Wired Headphones', '27in FHD Monitor'],\n",
       " ['Wired Headphones', '34in Ultrawide Monitor'],\n",
       " ['Wired Headphones', 'AA Batteries (4-pack)'],\n",
       " ['Wired Headphones', 'AAA Batteries (4-pack)'],\n",
       " ['Wired Headphones', 'Apple Airpods Headphones'],\n",
       " ['Wired Headphones', 'Bose SoundSport Headphones'],\n",
       " ['Wired Headphones', 'Flatscreen TV'],\n",
       " ['Wired Headphones', 'Google Phone'],\n",
       " ['Wired Headphones', 'LG Washing Machine'],\n",
       " ['Wired Headphones', 'Lightning Charging Cable'],\n",
       " ['Wired Headphones', 'Macbook Pro Laptop'],\n",
       " ['Wired Headphones', 'ThinkPad Laptop'],\n",
       " ['Wired Headphones', 'USB-C Charging Cable'],\n",
       " ['Wired Headphones', 'Vareebadd Phone'],\n",
       " ['Wired Headphones', 'Wired Headphones'],\n",
       " ['Wired Headphones', 'iPhone'],\n",
       " ['iPhone', '20in Monitor'],\n",
       " ['iPhone', '27in 4K Gaming Monitor'],\n",
       " ['iPhone', '27in FHD Monitor'],\n",
       " ['iPhone', '34in Ultrawide Monitor'],\n",
       " ['iPhone', 'AA Batteries (4-pack)'],\n",
       " ['iPhone', 'AAA Batteries (4-pack)'],\n",
       " ['iPhone', 'Apple Airpods Headphones'],\n",
       " ['iPhone', 'Bose SoundSport Headphones'],\n",
       " ['iPhone', 'Flatscreen TV'],\n",
       " ['iPhone', 'Google Phone'],\n",
       " ['iPhone', 'LG Washing Machine'],\n",
       " ['iPhone', 'Lightning Charging Cable'],\n",
       " ['iPhone', 'Macbook Pro Laptop'],\n",
       " ['iPhone', 'ThinkPad Laptop'],\n",
       " ['iPhone', 'USB-C Charging Cable'],\n",
       " ['iPhone', 'Vareebadd Phone'],\n",
       " ['iPhone', 'Wired Headphones'],\n",
       " ['iPhone', 'iPhone']]"
      ]
     },
     "execution_count": 36,
     "metadata": {},
     "output_type": "execute_result"
    }
   ],
   "source": [
    "pair_products_list.sort()\n",
    "list(pair_products_list for pair_products_list,_ in itertools.groupby(pair_products_list))"
   ]
  },
  {
   "cell_type": "markdown",
   "id": "b0ca1fe8-0635-43f8-af2b-cc93f65a0de9",
   "metadata": {
    "id": "b0ca1fe8-0635-43f8-af2b-cc93f65a0de9"
   },
   "source": [
    "**8)** ¿Cuál es el producto más vendido?\n",
    "*Se espera*: `El producto más vendido es {x}`"
   ]
  },
  {
   "cell_type": "code",
   "execution_count": 37,
   "id": "95a83318-dd52-4db7-9c66-e079a59f5b57",
   "metadata": {
    "id": "95a83318-dd52-4db7-9c66-e079a59f5b57"
   },
   "outputs": [],
   "source": [
    "product_list = [item[1] for item in sales_data_list]"
   ]
  },
  {
   "cell_type": "code",
   "execution_count": 38,
   "id": "5ce3ee74-3801-483a-aff2-4c2dfa623883",
   "metadata": {},
   "outputs": [
    {
     "data": {
      "text/plain": [
       "186850"
      ]
     },
     "execution_count": 38,
     "metadata": {},
     "output_type": "execute_result"
    }
   ],
   "source": [
    "len(product_list)"
   ]
  },
  {
   "cell_type": "code",
   "execution_count": 39,
   "id": "9193d920-0bad-410e-ab55-4c9d533d5eae",
   "metadata": {},
   "outputs": [
    {
     "name": "stdout",
     "output_type": "stream",
     "text": [
      "[('USB-C Charging Cable', 21903)]\n"
     ]
    }
   ],
   "source": [
    "quantity_per_product = Counter(product_list)\n",
    "best_seller = quantity_per_product.most_common(1)\n",
    "print(best_seller)"
   ]
  },
  {
   "cell_type": "code",
   "execution_count": 40,
   "id": "ced6f28e-bd50-47f5-bfb1-91d863e354cf",
   "metadata": {},
   "outputs": [
    {
     "name": "stdout",
     "output_type": "stream",
     "text": [
      "El producto más vendido es [('USB-C Charging Cable', 21903)]\n"
     ]
    }
   ],
   "source": [
    "print(f'El producto más vendido es {best_seller}')"
   ]
  },
  {
   "cell_type": "markdown",
   "id": "68b4e603-0b45-40df-8ae1-cf999dcd3cdc",
   "metadata": {
    "id": "68b4e603-0b45-40df-8ae1-cf999dcd3cdc"
   },
   "source": [
    "**9)** ¿Cuál es la relación entre el precio del producto más vendido y el del menos vendido?\n",
    "*Se espera:* `El precio del producto más vendido es {n} veces mayor/menor que el producto menos vendido`"
   ]
  },
  {
   "cell_type": "code",
   "execution_count": 41,
   "id": "644db79a-3fbf-4802-b332-80a3b29f88f3",
   "metadata": {
    "id": "644db79a-3fbf-4802-b332-80a3b29f88f3"
   },
   "outputs": [],
   "source": [
    "least_popular = Counter(product_list).most_common()[18] # se indica la posicion para evitar los nan y prouduct"
   ]
  },
  {
   "cell_type": "code",
   "execution_count": 42,
   "id": "9d2cecad-56a7-402a-82b8-cc592261b4e9",
   "metadata": {},
   "outputs": [
    {
     "data": {
      "text/plain": [
       "('LG Dryer', 646)"
      ]
     },
     "execution_count": 42,
     "metadata": {},
     "output_type": "execute_result"
    }
   ],
   "source": [
    "least_popular"
   ]
  },
  {
   "cell_type": "code",
   "execution_count": 43,
   "id": "58ad35e8-8cc2-434e-b02b-00233261bda4",
   "metadata": {},
   "outputs": [
    {
     "name": "stdout",
     "output_type": "stream",
     "text": [
      "600.0\n"
     ]
    }
   ],
   "source": [
    "for orders in sales_data_list:\n",
    "    if orders[1]  == 'LG Dryer':\n",
    "        least_popular_price = float(orders[3])\n",
    "        print(least_popular_price)\n",
    "        break\n",
    "        "
   ]
  },
  {
   "cell_type": "code",
   "execution_count": 44,
   "id": "d382216f-7756-4038-a399-7d5ac600ce8f",
   "metadata": {},
   "outputs": [
    {
     "name": "stdout",
     "output_type": "stream",
     "text": [
      "11.95\n"
     ]
    }
   ],
   "source": [
    "for orders in sales_data_list:\n",
    "    if orders[1]  == 'USB-C Charging Cable':\n",
    "        best_seller_price = float(orders[3])\n",
    "        print(best_seller_price)\n",
    "        break"
   ]
  },
  {
   "cell_type": "code",
   "execution_count": 45,
   "id": "5afbd347-622c-435c-82ac-ba90e2856488",
   "metadata": {},
   "outputs": [
    {
     "name": "stdout",
     "output_type": "stream",
     "text": [
      "El precio del producto más vendido es 50 veces menor que el precio del producto menos vendido\n"
     ]
    }
   ],
   "source": [
    "difference_in_price = int(least_popular_price / best_seller_price)\n",
    "\n",
    "print(f'El precio del producto más vendido es {difference_in_price} veces menor que el precio del producto menos vendido')"
   ]
  },
  {
   "cell_type": "markdown",
   "id": "acb2623e-cad1-46ed-a8ea-3ec0e650901e",
   "metadata": {
    "id": "acb2623e-cad1-46ed-a8ea-3ec0e650901e"
   },
   "source": [
    "**10)** ¿Cuál es la órden con mayor cantidad de productos?\n",
    "*Se espera*: `La órden con mayor cantidad de productos es la número {x}, con {y} productos en total`"
   ]
  },
  {
   "cell_type": "code",
   "execution_count": 46,
   "id": "25df688f-02b5-4ba5-995c-8861aea7c43e",
   "metadata": {
    "id": "25df688f-02b5-4ba5-995c-8861aea7c43e"
   },
   "outputs": [
    {
     "name": "stdout",
     "output_type": "stream",
     "text": [
      "['211097', 'AAA Batteries (4-pack)', '9', '2.99', '06/23/19 08:29', '338 Hickory St, Los Angeles, CA 90001']\n",
      "['226483', 'AAA Batteries (4-pack)', '9', '2.99', '07/20/19 23:28', '867 Sunset St, San Francisco, CA 94016']\n",
      "['227096', 'AAA Batteries (4-pack)', '9', '2.99', '07/29/19 09:50', '60 10th St, San Francisco, CA 94016']\n"
     ]
    }
   ],
   "source": [
    "mayor_quantity = []\n",
    "for orders in sales_data_list:\n",
    "    try:\n",
    "        if float(orders[2]) >= int('9'):\n",
    "            mayor_quantity.append(list(orders))\n",
    "            print(orders)\n",
    "    except ValueError:\n",
    "        continue"
   ]
  },
  {
   "cell_type": "code",
   "execution_count": 47,
   "id": "2a142cbc-85a4-4844-8516-e7e97736a388",
   "metadata": {},
   "outputs": [
    {
     "name": "stdout",
     "output_type": "stream",
     "text": [
      " Las ordenes con mayor cantidad de productos son las número ('211097', '226483', '227096'), con 9 productos en total cada una\n"
     ]
    }
   ],
   "source": [
    "print(f' Las ordenes con mayor cantidad de productos son las número {mayor_quantity[0][0], mayor_quantity[1][0], mayor_quantity[2][0]}, con {mayor_quantity[0][2]} productos en total cada una')"
   ]
  },
  {
   "cell_type": "code",
   "execution_count": null,
   "id": "852acf12-509e-4ecc-aa7c-e52036b8eb07",
   "metadata": {},
   "outputs": [],
   "source": []
  }
 ],
 "metadata": {
  "colab": {
   "name": "5.1.analisis-de-ventas.ipynb",
   "provenance": []
  },
  "kernelspec": {
   "display_name": "Python 3 (ipykernel)",
   "language": "python",
   "name": "python3"
  },
  "language_info": {
   "codemirror_mode": {
    "name": "ipython",
    "version": 3
   },
   "file_extension": ".py",
   "mimetype": "text/x-python",
   "name": "python",
   "nbconvert_exporter": "python",
   "pygments_lexer": "ipython3",
   "version": "3.9.7"
  }
 },
 "nbformat": 4,
 "nbformat_minor": 5
}
